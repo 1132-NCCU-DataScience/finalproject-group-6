{
 "cells": [
  {
   "cell_type": "markdown",
   "id": "ef5d9957",
   "metadata": {},
   "source": [
    "### Note\n",
    "由於茼蒿和豌豆屬於季節性蔬菜，會有大半年沒有買賣資料，所以本次專案以花椰菜（青梗）為資料來源，建立蔬菜價格預測模型\n",
    "\n"
   ]
  },
  {
   "cell_type": "markdown",
   "id": "81ca47c8",
   "metadata": {},
   "source": [
    "## 檔案說明\n",
    "這個檔案的目標是從weekly_veg_dataset.csv資料集中，整理出建模所需的資料集"
   ]
  },
  {
   "cell_type": "code",
   "execution_count": 11,
   "id": "52b84cfb",
   "metadata": {},
   "outputs": [],
   "source": [
    "import pandas as pd\n",
    "import seaborn as sns\n",
    "import matplotlib.pyplot as plt\n",
    "import matplotlib\n",
    "\n",
    "# 設定字型為微軟正黑體\n",
    "matplotlib.rcParams['font.family'] = 'BiauKaiHK'\n",
    "\n",
    "# 讀入資料\n",
    "data = pd.read_csv(\"../data/weekly_veg_dataset.csv\")\n",
    "\n",
    "# 製作花椰菜資料集\n",
    "cauliflower_data = data[data['品項'] == '花椰菜（青梗）']\n",
    "\n",
    "df = cauliflower_data\n",
    "\n",
    "# 設定單一市場\n",
    "# df = df[df['市場'] == '514 溪湖鎮']\n"
   ]
  },
  {
   "cell_type": "code",
   "execution_count": 12,
   "id": "7b92d0eb",
   "metadata": {},
   "outputs": [],
   "source": [
    "import pandas as pd\n",
    "import seaborn as sns\n",
    "import matplotlib.pyplot as plt\n",
    "import os\n",
    "\n",
    "def analyze_market_corr(df, market_code, plot=True, save_dir=\"coefficient\"):\n",
    "\n",
    "    df_market = df[df['市場'] == market_code]\n",
    "    best_corrs = []\n",
    "\n",
    "    for i in range(13):\n",
    "        suffix = f\"_w-{i}\"\n",
    "        columns = [\"平均價_元每公斤\"] + [col for col in df_market.columns if col.endswith(suffix)]\n",
    "        df_sub = df_market[columns].dropna()\n",
    "\n",
    "        corr_matrix = df_sub.corr()\n",
    "        if not corr_matrix.empty and \"平均價_元每公斤\" in corr_matrix:\n",
    "            corrs = corr_matrix[\"平均價_元每公斤\"].drop(\"平均價_元每公斤\")\n",
    "\n",
    "            if not corrs.empty:\n",
    "                max_pos_var = corrs.idxmax()\n",
    "                max_pos_corr = corrs[max_pos_var]\n",
    "\n",
    "                max_neg_var = corrs.idxmin()\n",
    "                max_neg_corr = corrs[max_neg_var]\n",
    "\n",
    "                best_corrs.append((f\"w-{i}\", max_pos_var, max_pos_corr, max_neg_var, max_neg_corr))\n",
    "\n",
    "    # 找出最大正相關的週數\n",
    "    max_corr_entry = max(best_corrs, key=lambda x: x[2])\n",
    "    max_i = int(max_corr_entry[0].split(\"-\")[1])\n",
    "    max_i = 3\n",
    "\n",
    "    # 印出每週的結果\n",
    "    print(f\"\\n市場：{market_code}\")\n",
    "    print(f\"最大正相關發生在 w-{max_i}，變數為 {max_corr_entry[1]}，相關係數 = {max_corr_entry[2]:.4f}\\n\")\n",
    "    # for week, pos_var, pos_corr, neg_var, neg_corr in best_corrs:\n",
    "    #     print(f\"{week}:\")\n",
    "    #     print(f\"  最大正相關：{pos_var} (相關係數 = {pos_corr:.4f})\")\n",
    "\n",
    "    # 畫圖 & 儲存\n",
    "    if plot:\n",
    "        suffix = f\"_w-{max_i}\"\n",
    "        columns = [\"平均價_元每公斤\"] + [col for col in df_market.columns if col.endswith(suffix)]\n",
    "        df_sub = df_market[columns].dropna()\n",
    "        corr_matrix = df_sub.corr()\n",
    "\n",
    "        plt.figure(figsize=(12, 10))\n",
    "        sns.heatmap(\n",
    "            corr_matrix[['平均價_元每公斤']].sort_values(by='平均價_元每公斤', ascending=False),\n",
    "            annot=True, cmap='coolwarm'\n",
    "        )\n",
    "        title = f\"{market_code} - 平均價相關係數 (w-{max_i})\"\n",
    "        plt.title(title, fontsize=14)\n",
    "\n",
    "        # 建立資料夾（如果還沒存在）\n",
    "        os.makedirs(save_dir, exist_ok=True)\n",
    "        # 儲存為 JPG\n",
    "        filename = f\"{save_dir}/{market_code.replace(' ', '_')}_w-{max_i}.jpg\"\n",
    "        plt.savefig(filename, format='jpg', dpi=300, bbox_inches='tight')\n",
    "        plt.close()\n",
    "\n",
    "        print(f\"圖已儲存：{filename}\")\n",
    "\n",
    "    return max_i, best_corrs\n"
   ]
  },
  {
   "cell_type": "code",
   "execution_count": 14,
   "id": "9bbe8cd8",
   "metadata": {},
   "outputs": [
    {
     "name": "stdout",
     "output_type": "stream",
     "text": [
      "\n",
      "市場：512 永靖鄉\n",
      "最大正相關發生在 w-3，變數為 平均露點溫度(℃)_w-4，相關係數 = 0.7343\n",
      "\n",
      "圖已儲存：coefficient/512_永靖鄉_w-3.jpg\n"
     ]
    },
    {
     "name": "stderr",
     "output_type": "stream",
     "text": [
      "/Users/qiongyuechen/miniconda3/envs/ML/lib/python3.11/site-packages/seaborn/utils.py:61: UserWarning: Glyph 8722 (\\N{MINUS SIGN}) missing from font(s) BiauKaiHK.\n",
      "  fig.canvas.draw()\n",
      "/var/folders/cr/v3jr1ngj2zd1_8qj8cr2nj3m0000gn/T/ipykernel_38429/652474521.py:60: UserWarning: Glyph 8722 (\\N{MINUS SIGN}) missing from font(s) BiauKaiHK.\n",
      "  plt.savefig(filename, format='jpg', dpi=300, bbox_inches='tight')\n",
      "/var/folders/cr/v3jr1ngj2zd1_8qj8cr2nj3m0000gn/T/ipykernel_38429/652474521.py:60: UserWarning: Glyph 8722 (\\N{MINUS SIGN}) missing from font(s) BiauKaiHK.\n",
      "  plt.savefig(filename, format='jpg', dpi=300, bbox_inches='tight')\n"
     ]
    }
   ],
   "source": [
    "markets = [\n",
    "    #'400 台中市',\n",
    "    #'420 豐原區',\n",
    "    '512 永靖鄉',\n",
    "    # '514 溪湖鎮',\n",
    "    # '648 西螺鎮'\n",
    "]\n",
    "\n",
    "for market in markets:\n",
    "    analyze_market_corr(df, market)\n"
   ]
  },
  {
   "cell_type": "markdown",
   "id": "001164cd",
   "metadata": {},
   "source": [
    "修改欄位名稱（因為R語言的讀取會有問題）"
   ]
  },
  {
   "cell_type": "code",
   "execution_count": 3,
   "id": "860fc660",
   "metadata": {},
   "outputs": [
    {
     "ename": "NameError",
     "evalue": "name 'cauliflower_data' is not defined",
     "output_type": "error",
     "traceback": [
      "\u001b[31m---------------------------------------------------------------------------\u001b[39m",
      "\u001b[31mNameError\u001b[39m                                 Traceback (most recent call last)",
      "\u001b[36mCell\u001b[39m\u001b[36m \u001b[39m\u001b[32mIn[3]\u001b[39m\u001b[32m, line 4\u001b[39m\n\u001b[32m      1\u001b[39m \u001b[38;5;28;01mimport\u001b[39;00m\u001b[38;5;250m \u001b[39m\u001b[34;01mpandas\u001b[39;00m\u001b[38;5;250m \u001b[39m\u001b[38;5;28;01mas\u001b[39;00m\u001b[38;5;250m \u001b[39m\u001b[34;01mpd\u001b[39;00m\n\u001b[32m      2\u001b[39m \u001b[38;5;28;01mimport\u001b[39;00m\u001b[38;5;250m \u001b[39m\u001b[34;01mre\u001b[39;00m\n\u001b[32m----> \u001b[39m\u001b[32m4\u001b[39m df = \u001b[43mcauliflower_data\u001b[49m\n\u001b[32m      6\u001b[39m df[\u001b[33m'\u001b[39m\u001b[33mweek\u001b[39m\u001b[33m'\u001b[39m] = df[\u001b[33m'\u001b[39m\u001b[33mweek\u001b[39m\u001b[33m'\u001b[39m].astype(\u001b[38;5;28mstr\u001b[39m).str.zfill(\u001b[32m2\u001b[39m)\n\u001b[32m      8\u001b[39m \u001b[38;5;66;03m# 用正則表達式移除括號與其中的內容\u001b[39;00m\n",
      "\u001b[31mNameError\u001b[39m: name 'cauliflower_data' is not defined"
     ]
    }
   ],
   "source": [
    "import pandas as pd\n",
    "import re\n",
    "\n",
    "df = cauliflower_data\n",
    "\n",
    "df['week'] = df['week'].astype(str).str.zfill(2)\n",
    "\n",
    "# 用正則表達式移除括號與其中的內容\n",
    "df.columns = [re.sub(r'\\([^)]*\\)', '', col).strip() for col in df.columns]\n",
    "\n",
    "# 儲存為新的檔案\n",
    "df.to_csv(\"cauliflower_cleaned.csv\", index=False)\n",
    "print(f\"處理完成，已儲存為：cauliflower_cleaned.csv\")\n",
    "\n"
   ]
  },
  {
   "cell_type": "code",
   "execution_count": null,
   "id": "cbd89f3f",
   "metadata": {},
   "outputs": [],
   "source": []
  }
 ],
 "metadata": {
  "kernelspec": {
   "display_name": "ML",
   "language": "python",
   "name": "python3"
  },
  "language_info": {
   "codemirror_mode": {
    "name": "ipython",
    "version": 3
   },
   "file_extension": ".py",
   "mimetype": "text/x-python",
   "name": "python",
   "nbconvert_exporter": "python",
   "pygments_lexer": "ipython3",
   "version": "3.11.11"
  }
 },
 "nbformat": 4,
 "nbformat_minor": 5
}
